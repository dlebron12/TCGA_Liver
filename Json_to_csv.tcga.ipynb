{
 "cells": [
  {
   "cell_type": "code",
   "execution_count": 109,
   "metadata": {},
   "outputs": [],
   "source": [
    "import json\n",
    "import csv\n",
    "import pandas as pd"
   ]
  },
  {
   "cell_type": "code",
   "execution_count": 110,
   "metadata": {},
   "outputs": [
    {
     "data": {
      "text/plain": [
       "'/Users/dlebron/TCGA_proj/examples-Python/notebooks'"
      ]
     },
     "execution_count": 110,
     "metadata": {},
     "output_type": "execute_result"
    }
   ],
   "source": [
    "%pwd"
   ]
  },
  {
   "cell_type": "code",
   "execution_count": 111,
   "metadata": {},
   "outputs": [],
   "source": [
    "tcga='../../../Downloads/clinical.project-TCGA-LIHC.2018-05-16.json'\n",
    "\n",
    "in_file=open(tcga)\n",
    "data=json.load(in_file)\n",
    "in_file.close()\n",
    "fields=data[0].keys()\n",
    "ids=[]\n",
    "\n",
    "#Initialize the data frames\n",
    "diagnoses=pd.DataFrame.from_dict(data[0]['diagnoses'])\n",
    "demographic=pd.DataFrame.from_dict([data[0].get('demographic')])\n",
    "exposures=pd.DataFrame.from_dict(data[0]['exposures'])\n"
   ]
  },
  {
   "cell_type": "code",
   "execution_count": 105,
   "metadata": {},
   "outputs": [],
   "source": [
    "\n",
    "#Get the values from the dictionary \n",
    "for row in data:\n",
    "    ids.append(row.get('case_id'))\n",
    "    diagnoses=diagnoses.append(pd.DataFrame.from_dict(row.get('diagnoses')),ignore_index=True)\n",
    "    demographic=demographic.append(pd.DataFrame.from_dict([row.get('demographic')]),ignore_index=True)\n",
    "    exposures=exposures.append(pd.DataFrame.from_dict(row.get('exposures')),ignore_index=True)    \n",
    "    \n",
    "\n"
   ]
  },
  {
   "cell_type": "code",
   "execution_count": 108,
   "metadata": {},
   "outputs": [],
   "source": [
    "diagnoses.to_csv('lich_tcga.diagnoses.csv')\n",
    "demographic.to_csv('lich_tcga.demographic.csv')\n",
    "exposures.to_csv('lich_tcga.exposure.csv')"
   ]
  },
  {
   "cell_type": "code",
   "execution_count": 112,
   "metadata": {},
   "outputs": [
    {
     "data": {
      "text/plain": [
       "{'created_datetime': None,\n",
       " 'demographic_id': 'e916b516-078c-5749-8cf9-5dcc311f9ad6',\n",
       " 'ethnicity': 'not hispanic or latino',\n",
       " 'gender': 'female',\n",
       " 'race': 'white',\n",
       " 'state': 'live',\n",
       " 'submitter_id': 'TCGA-FV-A496_demographic',\n",
       " 'updated_datetime': '2017-03-04T16:37:28.862150-06:00',\n",
       " 'year_of_birth': 1928,\n",
       " 'year_of_death': None}"
      ]
     },
     "execution_count": 112,
     "metadata": {},
     "output_type": "execute_result"
    }
   ],
   "source": [
    "row.get('demographic')"
   ]
  },
  {
   "cell_type": "code",
   "execution_count": null,
   "metadata": {},
   "outputs": [],
   "source": []
  }
 ],
 "metadata": {
  "kernelspec": {
   "display_name": "Python 3",
   "language": "python",
   "name": "python3"
  },
  "language_info": {
   "codemirror_mode": {
    "name": "ipython",
    "version": 3
   },
   "file_extension": ".py",
   "mimetype": "text/x-python",
   "name": "python",
   "nbconvert_exporter": "python",
   "pygments_lexer": "ipython3",
   "version": "3.6.4"
  }
 },
 "nbformat": 4,
 "nbformat_minor": 2
}
